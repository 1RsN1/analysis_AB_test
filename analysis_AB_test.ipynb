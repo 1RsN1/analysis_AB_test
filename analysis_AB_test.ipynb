{
 "cells": [
  {
   "cell_type": "markdown",
   "metadata": {},
   "source": [
    "## Финальный проект. Вариант 2"
   ]
  },
  {
   "cell_type": "markdown",
   "metadata": {},
   "source": [
    "### Задание 1. A/B–тестирование"
   ]
  },
  {
   "cell_type": "markdown",
   "metadata": {},
   "source": [
    "#### Условие\n",
    "Одной из основных задач аналитика в нашей команде является корректное проведение экспериментов. Для этого мы применяем метод A/B–тестирования. В ходе тестирования одной гипотезы целевой группе была предложена новая механика оплаты услуг на сайте, у контрольной группы оставалась базовая механика. В качестве задания вам необходимо проанализировать итоги эксперимента и сделать вывод, стоит ли запускать новую механику оплаты на всех пользователей."
   ]
  },
  {
   "cell_type": "code",
   "execution_count": 1,
   "metadata": {},
   "outputs": [],
   "source": [
    "# Импортируем нужные библиотеки\n",
    "import pandas as pd\n",
    "import numpy as np\n",
    "import matplotlib.pyplot as plt\n",
    "import matplotlib\n",
    "import seaborn as sns\n",
    "import scipy.stats as ss\n",
    "import pingouin as pg"
   ]
  },
  {
   "cell_type": "code",
   "execution_count": 2,
   "metadata": {},
   "outputs": [],
   "source": [
    "# Получим все имеющиеся данные\n",
    "active_studs = pd.read_csv('Проект_2_active_studs.csv')\n",
    "groups = pd.read_csv('Проект_2_groups.csv', sep=\";\")\n",
    "cheks = pd.read_csv('Проект_2_checks.csv', sep=\";\")"
   ]
  },
  {
   "cell_type": "markdown",
   "metadata": {},
   "source": [
    "##### Рассмотрим данные"
   ]
  },
  {
   "cell_type": "code",
   "execution_count": 3,
   "metadata": {},
   "outputs": [
    {
     "data": {
      "text/html": [
       "<div>\n",
       "<style scoped>\n",
       "    .dataframe tbody tr th:only-of-type {\n",
       "        vertical-align: middle;\n",
       "    }\n",
       "\n",
       "    .dataframe tbody tr th {\n",
       "        vertical-align: top;\n",
       "    }\n",
       "\n",
       "    .dataframe thead th {\n",
       "        text-align: right;\n",
       "    }\n",
       "</style>\n",
       "<table border=\"1\" class=\"dataframe\">\n",
       "  <thead>\n",
       "    <tr style=\"text-align: right;\">\n",
       "      <th></th>\n",
       "      <th>student_id</th>\n",
       "    </tr>\n",
       "  </thead>\n",
       "  <tbody>\n",
       "    <tr>\n",
       "      <th>0</th>\n",
       "      <td>581585</td>\n",
       "    </tr>\n",
       "    <tr>\n",
       "      <th>1</th>\n",
       "      <td>5723133</td>\n",
       "    </tr>\n",
       "    <tr>\n",
       "      <th>2</th>\n",
       "      <td>3276743</td>\n",
       "    </tr>\n",
       "    <tr>\n",
       "      <th>3</th>\n",
       "      <td>4238589</td>\n",
       "    </tr>\n",
       "    <tr>\n",
       "      <th>4</th>\n",
       "      <td>4475369</td>\n",
       "    </tr>\n",
       "  </tbody>\n",
       "</table>\n",
       "</div>"
      ],
      "text/plain": [
       "   student_id\n",
       "0      581585\n",
       "1     5723133\n",
       "2     3276743\n",
       "3     4238589\n",
       "4     4475369"
      ]
     },
     "execution_count": 3,
     "metadata": {},
     "output_type": "execute_result"
    }
   ],
   "source": [
    "# Выведем первые 5 строк таблицы\n",
    "active_studs.head()"
   ]
  },
  {
   "cell_type": "code",
   "execution_count": 4,
   "metadata": {},
   "outputs": [
    {
     "name": "stdout",
     "output_type": "stream",
     "text": [
      "<class 'pandas.core.frame.DataFrame'>\n",
      "RangeIndex: 8341 entries, 0 to 8340\n",
      "Data columns (total 1 columns):\n",
      " #   Column      Non-Null Count  Dtype\n",
      "---  ------      --------------  -----\n",
      " 0   student_id  8341 non-null   int64\n",
      "dtypes: int64(1)\n",
      "memory usage: 65.3 KB\n"
     ]
    }
   ],
   "source": [
    "# Посмотрим на информацию о таблице\n",
    "active_studs.info()"
   ]
  },
  {
   "cell_type": "code",
   "execution_count": 5,
   "metadata": {},
   "outputs": [
    {
     "name": "stderr",
     "output_type": "stream",
     "text": [
      "/opt/tljh/user/lib/python3.7/site-packages/outdated/utils.py:18: OutdatedCacheFailedWarning: Failed to use cache while checking for outdated package.\n",
      "Set the environment variable OUTDATED_RAISE_EXCEPTION=1 for a full traceback.\n",
      "Set the environment variable OUTDATED_IGNORE=1 to disable these warnings.\n",
      "  **kwargs\n",
      "/opt/tljh/user/lib/python3.7/site-packages/outdated/utils.py:18: OutdatedPackageWarning: The package outdated is out of date. Your version is 0.2.1, the latest is 0.2.2.\n",
      "Set the environment variable OUTDATED_IGNORE=1 to disable these warnings.\n",
      "  **kwargs\n"
     ]
    },
    {
     "data": {
      "text/html": [
       "<div>\n",
       "<style scoped>\n",
       "    .dataframe tbody tr th:only-of-type {\n",
       "        vertical-align: middle;\n",
       "    }\n",
       "\n",
       "    .dataframe tbody tr th {\n",
       "        vertical-align: top;\n",
       "    }\n",
       "\n",
       "    .dataframe thead th {\n",
       "        text-align: right;\n",
       "    }\n",
       "</style>\n",
       "<table border=\"1\" class=\"dataframe\">\n",
       "  <thead>\n",
       "    <tr style=\"text-align: right;\">\n",
       "      <th></th>\n",
       "      <th>id</th>\n",
       "      <th>grp</th>\n",
       "    </tr>\n",
       "  </thead>\n",
       "  <tbody>\n",
       "    <tr>\n",
       "      <th>0</th>\n",
       "      <td>1489</td>\n",
       "      <td>B</td>\n",
       "    </tr>\n",
       "    <tr>\n",
       "      <th>1</th>\n",
       "      <td>1627</td>\n",
       "      <td>A</td>\n",
       "    </tr>\n",
       "    <tr>\n",
       "      <th>2</th>\n",
       "      <td>1768</td>\n",
       "      <td>B</td>\n",
       "    </tr>\n",
       "    <tr>\n",
       "      <th>3</th>\n",
       "      <td>1783</td>\n",
       "      <td>B</td>\n",
       "    </tr>\n",
       "    <tr>\n",
       "      <th>4</th>\n",
       "      <td>1794</td>\n",
       "      <td>A</td>\n",
       "    </tr>\n",
       "  </tbody>\n",
       "</table>\n",
       "</div>"
      ],
      "text/plain": [
       "     id grp\n",
       "0  1489   B\n",
       "1  1627   A\n",
       "2  1768   B\n",
       "3  1783   B\n",
       "4  1794   A"
      ]
     },
     "execution_count": 5,
     "metadata": {},
     "output_type": "execute_result"
    }
   ],
   "source": [
    "# Эти данные были неправильно прочитаны, поэтому в начале необходимо поставить разделитель \";\"\n",
    "# Выведем первые 5 строк таблицы\n",
    "groups.head()"
   ]
  },
  {
   "cell_type": "code",
   "execution_count": 6,
   "metadata": {},
   "outputs": [
    {
     "name": "stdout",
     "output_type": "stream",
     "text": [
      "<class 'pandas.core.frame.DataFrame'>\n",
      "RangeIndex: 74484 entries, 0 to 74483\n",
      "Data columns (total 2 columns):\n",
      " #   Column  Non-Null Count  Dtype \n",
      "---  ------  --------------  ----- \n",
      " 0   id      74484 non-null  int64 \n",
      " 1   grp     74484 non-null  object\n",
      "dtypes: int64(1), object(1)\n",
      "memory usage: 1.1+ MB\n"
     ]
    }
   ],
   "source": [
    "# Посмотрим на информацию о таблице\n",
    "groups.info()"
   ]
  },
  {
   "cell_type": "code",
   "execution_count": 7,
   "metadata": {},
   "outputs": [
    {
     "data": {
      "text/html": [
       "<div>\n",
       "<style scoped>\n",
       "    .dataframe tbody tr th:only-of-type {\n",
       "        vertical-align: middle;\n",
       "    }\n",
       "\n",
       "    .dataframe tbody tr th {\n",
       "        vertical-align: top;\n",
       "    }\n",
       "\n",
       "    .dataframe thead th {\n",
       "        text-align: right;\n",
       "    }\n",
       "</style>\n",
       "<table border=\"1\" class=\"dataframe\">\n",
       "  <thead>\n",
       "    <tr style=\"text-align: right;\">\n",
       "      <th></th>\n",
       "      <th>student_id</th>\n",
       "      <th>rev</th>\n",
       "    </tr>\n",
       "  </thead>\n",
       "  <tbody>\n",
       "    <tr>\n",
       "      <th>0</th>\n",
       "      <td>1627</td>\n",
       "      <td>990.0</td>\n",
       "    </tr>\n",
       "    <tr>\n",
       "      <th>1</th>\n",
       "      <td>3185</td>\n",
       "      <td>690.0</td>\n",
       "    </tr>\n",
       "    <tr>\n",
       "      <th>2</th>\n",
       "      <td>25973</td>\n",
       "      <td>690.0</td>\n",
       "    </tr>\n",
       "    <tr>\n",
       "      <th>3</th>\n",
       "      <td>26280</td>\n",
       "      <td>690.0</td>\n",
       "    </tr>\n",
       "    <tr>\n",
       "      <th>4</th>\n",
       "      <td>100300</td>\n",
       "      <td>990.0</td>\n",
       "    </tr>\n",
       "  </tbody>\n",
       "</table>\n",
       "</div>"
      ],
      "text/plain": [
       "   student_id    rev\n",
       "0        1627  990.0\n",
       "1        3185  690.0\n",
       "2       25973  690.0\n",
       "3       26280  690.0\n",
       "4      100300  990.0"
      ]
     },
     "execution_count": 7,
     "metadata": {},
     "output_type": "execute_result"
    }
   ],
   "source": [
    "# Эти данные были неправильно прочитаны, поэтому в начале необходимо поставить разделитель \";\"\n",
    "# Выведем первые 5 строк таблицы\n",
    "cheks.head()"
   ]
  },
  {
   "cell_type": "code",
   "execution_count": 8,
   "metadata": {},
   "outputs": [
    {
     "name": "stdout",
     "output_type": "stream",
     "text": [
      "<class 'pandas.core.frame.DataFrame'>\n",
      "RangeIndex: 541 entries, 0 to 540\n",
      "Data columns (total 2 columns):\n",
      " #   Column      Non-Null Count  Dtype  \n",
      "---  ------      --------------  -----  \n",
      " 0   student_id  541 non-null    int64  \n",
      " 1   rev         541 non-null    float64\n",
      "dtypes: float64(1), int64(1)\n",
      "memory usage: 8.6 KB\n"
     ]
    }
   ],
   "source": [
    "# Посмотрим на информацию о таблице\n",
    "cheks.info()"
   ]
  },
  {
   "cell_type": "markdown",
   "metadata": {},
   "source": [
    "#### При работе с этими данными я заметил, что в таблице cheks немного больше записей, чем у меня получается при объединении с таблицей active_studs, поэтому я решил проверить, правильно ли все записано и перенес это в начало"
   ]
  },
  {
   "cell_type": "code",
   "execution_count": 9,
   "metadata": {},
   "outputs": [
    {
     "name": "stdout",
     "output_type": "stream",
     "text": [
      "Количество уникальных значений в таблице cheks: 541\n"
     ]
    },
    {
     "data": {
      "text/plain": [
       "True"
      ]
     },
     "execution_count": 9,
     "metadata": {},
     "output_type": "execute_result"
    }
   ],
   "source": [
    "# Проверим количество уникальных значений в таблице cheks, вдруг значения повторяются\n",
    "print(f\"Количество уникальных значений в таблице cheks: {cheks.student_id.nunique()}\")\n",
    "cheks.student_id.nunique() == cheks.student_id.shape[0]"
   ]
  },
  {
   "cell_type": "code",
   "execution_count": 10,
   "metadata": {},
   "outputs": [
    {
     "name": "stderr",
     "output_type": "stream",
     "text": [
      "/opt/tljh/user/lib/python3.7/site-packages/outdated/utils.py:18: OutdatedCacheFailedWarning: Failed to use cache while checking for outdated package.\n",
      "Set the environment variable OUTDATED_RAISE_EXCEPTION=1 for a full traceback.\n",
      "Set the environment variable OUTDATED_IGNORE=1 to disable these warnings.\n",
      "  **kwargs\n",
      "/opt/tljh/user/lib/python3.7/site-packages/outdated/utils.py:18: OutdatedPackageWarning: The package pingouin is out of date. Your version is 0.4.0, the latest is 0.5.5.\n",
      "Set the environment variable OUTDATED_IGNORE=1 to disable these warnings.\n",
      "  **kwargs\n"
     ]
    },
    {
     "data": {
      "text/plain": [
       "149"
      ]
     },
     "execution_count": 10,
     "metadata": {},
     "output_type": "execute_result"
    }
   ],
   "source": [
    "# Возьмем все student_id, которые есть в таблице cheks, но нет в таблице active_studs\n",
    "unique_active_studs = active_studs.student_id.unique()\n",
    "counter = []\n",
    "for i in cheks.student_id.unique():\n",
    "    if i not in unique_active_studs:\n",
    "        counter.append(i)   \n",
    "len(counter)"
   ]
  },
  {
   "cell_type": "code",
   "execution_count": 11,
   "metadata": {},
   "outputs": [
    {
     "data": {
      "text/plain": [
       "105532.0001"
      ]
     },
     "execution_count": 11,
     "metadata": {},
     "output_type": "execute_result"
    }
   ],
   "source": [
    "# Посмотрим сколько выручки мы могли не заметить\n",
    "cheks[cheks.student_id.isin(counter)].rev.sum()"
   ]
  },
  {
   "cell_type": "code",
   "execution_count": 12,
   "metadata": {},
   "outputs": [
    {
     "name": "stdout",
     "output_type": "stream",
     "text": [
      "<class 'pandas.core.frame.DataFrame'>\n",
      "Int64Index: 149 entries, 0 to 148\n",
      "Data columns (total 3 columns):\n",
      " #   Column      Non-Null Count  Dtype  \n",
      "---  ------      --------------  -----  \n",
      " 0   student_id  149 non-null    int64  \n",
      " 1   rev         149 non-null    float64\n",
      " 2   grp         149 non-null    object \n",
      "dtypes: float64(1), int64(1), object(1)\n",
      "memory usage: 4.7+ KB\n"
     ]
    }
   ],
   "source": [
    "# Возьмем все \"пропущенные\" данные и поставим в соответствие каждому student_id группу, к которой ученик относится\n",
    "not_active_studs = cheks[cheks.student_id.isin(counter)].merge(groups, left_on='student_id', right_on='id').drop('id', axis=1)\n",
    "not_active_studs.info()"
   ]
  },
  {
   "cell_type": "markdown",
   "metadata": {},
   "source": [
    "#### Как стало видно, почему-то некоторые студенты, которые совершали сделки во время проведения эксперимента, не были записаны в таблицу active_studs, из-за этого мы могли упустить важные данные для принятия решения\n",
    "#### Теперь выберем только активных пользователей"
   ]
  },
  {
   "cell_type": "code",
   "execution_count": 13,
   "metadata": {},
   "outputs": [
    {
     "name": "stdout",
     "output_type": "stream",
     "text": [
      "<class 'pandas.core.frame.DataFrame'>\n",
      "Int64Index: 8328 entries, 0 to 8327\n",
      "Data columns (total 2 columns):\n",
      " #   Column      Non-Null Count  Dtype \n",
      "---  ------      --------------  ----- \n",
      " 0   student_id  8328 non-null   int64 \n",
      " 1   grp         8328 non-null   object\n",
      "dtypes: int64(1), object(1)\n",
      "memory usage: 195.2+ KB\n"
     ]
    }
   ],
   "source": [
    "# Возьмем только тех пользователей, которые были активны во время проведения эксперимента\n",
    "active_studs_group = active_studs.merge(groups, how=\"inner\", left_on='student_id', right_on='id').drop('id', axis=1)\n",
    "active_studs_group.info()"
   ]
  },
  {
   "cell_type": "code",
   "execution_count": 14,
   "metadata": {},
   "outputs": [
    {
     "name": "stdout",
     "output_type": "stream",
     "text": [
      "<class 'pandas.core.frame.DataFrame'>\n",
      "Int64Index: 391 entries, 0 to 390\n",
      "Data columns (total 3 columns):\n",
      " #   Column      Non-Null Count  Dtype  \n",
      "---  ------      --------------  -----  \n",
      " 0   student_id  391 non-null    int64  \n",
      " 1   grp         391 non-null    object \n",
      " 2   rev         391 non-null    float64\n",
      "dtypes: float64(1), int64(1), object(1)\n",
      "memory usage: 12.2+ KB\n"
     ]
    }
   ],
   "source": [
    "# Каждому активному пользователю поставим в соответствие то количество денег, которое он потратил и удалим тех,\n",
    "# кто ничего не покупал\n",
    "paying_studs = active_studs_group.merge(cheks, how=\"inner\", on='student_id')\n",
    "paying_studs.info()"
   ]
  },
  {
   "cell_type": "code",
   "execution_count": 15,
   "metadata": {},
   "outputs": [
    {
     "name": "stdout",
     "output_type": "stream",
     "text": [
      "<class 'pandas.core.frame.DataFrame'>\n",
      "Int64Index: 540 entries, 0 to 148\n",
      "Data columns (total 3 columns):\n",
      " #   Column      Non-Null Count  Dtype  \n",
      "---  ------      --------------  -----  \n",
      " 0   student_id  540 non-null    int64  \n",
      " 1   grp         540 non-null    object \n",
      " 2   rev         540 non-null    float64\n",
      "dtypes: float64(1), int64(1), object(1)\n",
      "memory usage: 16.9+ KB\n"
     ]
    }
   ],
   "source": [
    "# Соединим две таблицы и получим итоговую, с которой и будем работать\n",
    "paying_studs = pd.concat([paying_studs, not_active_studs])\n",
    "paying_studs.info()"
   ]
  },
  {
   "cell_type": "code",
   "execution_count": 16,
   "metadata": {},
   "outputs": [],
   "source": [
    "# Выделим отдельно контрольную и тестовую группы\n",
    "control = paying_studs.query('grp == \"A\"')\n",
    "test = paying_studs.query('grp == \"B\"')"
   ]
  },
  {
   "cell_type": "markdown",
   "metadata": {},
   "source": [
    "#### Для использования статистических критериев важно знать размеры выборок"
   ]
  },
  {
   "cell_type": "code",
   "execution_count": 17,
   "metadata": {},
   "outputs": [
    {
     "name": "stdout",
     "output_type": "stream",
     "text": [
      "<class 'pandas.core.frame.DataFrame'>\n",
      "Int64Index: 107 entries, 0 to 142\n",
      "Data columns (total 3 columns):\n",
      " #   Column      Non-Null Count  Dtype  \n",
      "---  ------      --------------  -----  \n",
      " 0   student_id  107 non-null    int64  \n",
      " 1   grp         107 non-null    object \n",
      " 2   rev         107 non-null    float64\n",
      "dtypes: float64(1), int64(1), object(1)\n",
      "memory usage: 3.3+ KB\n"
     ]
    }
   ],
   "source": [
    "# Посмотрим на информацию о таблице\n",
    "control.info()"
   ]
  },
  {
   "cell_type": "code",
   "execution_count": 18,
   "metadata": {},
   "outputs": [
    {
     "name": "stdout",
     "output_type": "stream",
     "text": [
      "<class 'pandas.core.frame.DataFrame'>\n",
      "Int64Index: 433 entries, 1 to 148\n",
      "Data columns (total 3 columns):\n",
      " #   Column      Non-Null Count  Dtype  \n",
      "---  ------      --------------  -----  \n",
      " 0   student_id  433 non-null    int64  \n",
      " 1   grp         433 non-null    object \n",
      " 2   rev         433 non-null    float64\n",
      "dtypes: float64(1), int64(1), object(1)\n",
      "memory usage: 13.5+ KB\n"
     ]
    }
   ],
   "source": [
    "# Посмотрим на информацию о таблице\n",
    "test.info()"
   ]
  },
  {
   "cell_type": "markdown",
   "metadata": {},
   "source": [
    "#### В контрольной группе 107 наблюдений, а в тестовой 433. В каждой больше 30, уже хорошо, но их размеры сильно отличаются друг от друга, что может быть чревато, но не должно помешать в поулчении результатов"
   ]
  },
  {
   "cell_type": "markdown",
   "metadata": {},
   "source": [
    "#### Посмотрим описательные статистики каждой выборки"
   ]
  },
  {
   "cell_type": "code",
   "execution_count": 19,
   "metadata": {},
   "outputs": [
    {
     "data": {
      "text/plain": [
       "count     107.000000\n",
       "mean      860.710280\n",
       "std       815.893445\n",
       "min       199.000000\n",
       "25%       290.000000\n",
       "50%       690.000000\n",
       "75%       990.000000\n",
       "max      3660.000000\n",
       "Name: rev, dtype: float64"
      ]
     },
     "execution_count": 19,
     "metadata": {},
     "output_type": "execute_result"
    }
   ],
   "source": [
    "control.rev.describe()"
   ]
  },
  {
   "cell_type": "code",
   "execution_count": 20,
   "metadata": {},
   "outputs": [
    {
     "data": {
      "text/plain": [
       "count     433.000000\n",
       "mean     1106.997699\n",
       "std       741.714026\n",
       "min       199.000000\n",
       "25%       398.000000\n",
       "50%       880.000000\n",
       "75%      1900.000000\n",
       "max      4650.000000\n",
       "Name: rev, dtype: float64"
      ]
     },
     "execution_count": 20,
     "metadata": {},
     "output_type": "execute_result"
    }
   ],
   "source": [
    "test.rev.describe()"
   ]
  },
  {
   "cell_type": "code",
   "execution_count": 21,
   "metadata": {},
   "outputs": [
    {
     "data": {
      "text/plain": [
       "<matplotlib.axes._subplots.AxesSubplot at 0x7fe1c866f358>"
      ]
     },
     "execution_count": 21,
     "metadata": {},
     "output_type": "execute_result"
    },
    {
     "data": {
      "image/png": "[encoded data removed]",
      "text/plain": [
       "<Figure size 432x288 with 1 Axes>"
      ]
     },
     "metadata": {
      "needs_background": "light"
     },
     "output_type": "display_data"
    }
   ],
   "source": [
    "# Построим boxplot для более детального представления данных\n",
    "sns.boxplot(data=paying_studs, x=\"grp\", y='rev')"
   ]
  },
  {
   "cell_type": "markdown",
   "metadata": {},
   "source": [
    "#### Видно, что в тестовой группе почти каждый количественный показатель больше, чем в контрольной"
   ]
  },
  {
   "cell_type": "markdown",
   "metadata": {},
   "source": [
    "#### Посмотрим метрики ARPU и CR относительно всех пользователей и относительно только активных, чтобы узнать,  есть ли различия в группах"
   ]
  },
  {
   "cell_type": "code",
   "execution_count": 22,
   "metadata": {},
   "outputs": [],
   "source": [
    "# Посчитаем количество платящих пользователей в целом и по группам, выручку по группам, \n",
    "# общее количество пользователей\n",
    "num_paying_st_control = control.student_id.nunique()\n",
    "num_paying_st_test    = test.student_id.nunique()\n",
    "total_rev_control     = control.rev.sum()\n",
    "total_rev_test        = test.rev.sum()\n",
    "num_st                = groups.id.nunique()\n",
    "num_st_control        = groups.query('grp == \"A\"').id.nunique()\n",
    "num_st_test           = groups.query('grp == \"B\"').id.nunique()\n",
    "num_active_st         = active_studs.student_id.nunique() + not_active_studs.student_id.nunique()\n",
    "num_active_st_control = (active_studs_group.query('grp == \"A\"').student_id.nunique() \n",
    "                             + not_active_studs.query('grp == \"A\"').student_id.nunique())\n",
    "num_active_st_test    = (active_studs_group.query('grp == \"B\"').student_id.nunique() \n",
    "                          + not_active_studs.query('grp == \"B\"').student_id.nunique())"
   ]
  },
  {
   "cell_type": "code",
   "execution_count": 23,
   "metadata": {},
   "outputs": [],
   "source": [
    "# Посчитаем ARPU по всем пользователям и по активным в дни эксперимента\n",
    "arpu_control        = round(total_rev_control / num_st, 2)\n",
    "arpu_test           = round(total_rev_test / num_st, 2)\n",
    "arpu_active_control = round(total_rev_control / num_active_st, 2)\n",
    "arpu_active_test    = round(total_rev_test / num_active_st, 2)"
   ]
  },
  {
   "cell_type": "code",
   "execution_count": 24,
   "metadata": {},
   "outputs": [],
   "source": [
    "# Посчитаем CR по всем пользователям и по активным в дни эксперимента\n",
    "cr_control        = round(num_paying_st_control / num_st_control * 100, 2)\n",
    "cr_test           = round(num_paying_st_test / num_st_test * 100, 2)\n",
    "cr_active_control = round(num_paying_st_control / num_active_st_control * 100, 2)\n",
    "cr_active_test    = round(num_paying_st_test / num_active_st_test * 100, 2)"
   ]
  },
  {
   "cell_type": "code",
   "execution_count": 25,
   "metadata": {},
   "outputs": [
    {
     "data": {
      "text/html": [
       "<div>\n",
       "<style scoped>\n",
       "    .dataframe tbody tr th:only-of-type {\n",
       "        vertical-align: middle;\n",
       "    }\n",
       "\n",
       "    .dataframe tbody tr th {\n",
       "        vertical-align: top;\n",
       "    }\n",
       "\n",
       "    .dataframe thead th {\n",
       "        text-align: right;\n",
       "    }\n",
       "</style>\n",
       "<table border=\"1\" class=\"dataframe\">\n",
       "  <thead>\n",
       "    <tr style=\"text-align: right;\">\n",
       "      <th></th>\n",
       "      <th>paying_students</th>\n",
       "      <th>total_revenue</th>\n",
       "      <th>number_students</th>\n",
       "      <th>number_active_students</th>\n",
       "      <th>ARPU</th>\n",
       "      <th>ARPAU</th>\n",
       "      <th>CR</th>\n",
       "      <th>CR_active</th>\n",
       "    </tr>\n",
       "  </thead>\n",
       "  <tbody>\n",
       "    <tr>\n",
       "      <th>control</th>\n",
       "      <td>107</td>\n",
       "      <td>92096.0000</td>\n",
       "      <td>14671</td>\n",
       "      <td>1564</td>\n",
       "      <td>1.24</td>\n",
       "      <td>10.85</td>\n",
       "      <td>0.73</td>\n",
       "      <td>6.84</td>\n",
       "    </tr>\n",
       "    <tr>\n",
       "      <th>test</th>\n",
       "      <td>433</td>\n",
       "      <td>479330.0036</td>\n",
       "      <td>59813</td>\n",
       "      <td>6913</td>\n",
       "      <td>6.44</td>\n",
       "      <td>56.46</td>\n",
       "      <td>0.72</td>\n",
       "      <td>6.26</td>\n",
       "    </tr>\n",
       "  </tbody>\n",
       "</table>\n",
       "</div>"
      ],
      "text/plain": [
       "         paying_students  total_revenue  number_students  \\\n",
       "control              107     92096.0000            14671   \n",
       "test                 433    479330.0036            59813   \n",
       "\n",
       "         number_active_students  ARPU  ARPAU    CR  CR_active  \n",
       "control                    1564  1.24  10.85  0.73       6.84  \n",
       "test                       6913  6.44  56.46  0.72       6.26  "
      ]
     },
     "execution_count": 25,
     "metadata": {},
     "output_type": "execute_result"
    }
   ],
   "source": [
    "# Построим таблицу для отображения результатов\n",
    "all_func = pd.DataFrame([[num_paying_st_control, total_rev_control, num_st_control, num_active_st_control, \n",
    "                          arpu_control, arpu_active_control, cr_control, cr_active_control], \n",
    "                         [num_paying_st_test, total_rev_test, num_st_test, num_active_st_test, \n",
    "                          arpu_test, arpu_active_test, cr_test, cr_active_test]], \n",
    "                        columns=['paying_students', 'total_revenue', 'number_students', \n",
    "                                 'number_active_students', 'ARPU', 'ARPAU', 'CR', 'CR_active'], \n",
    "                        index=['control', 'test'])\n",
    "all_func"
   ]
  },
  {
   "cell_type": "markdown",
   "metadata": {},
   "source": [
    "#### Смотря на полученные данные, можно сказать, что в тестовой группе примерно в 4 раза больше наблюдений и из-за этого все метрики кажутся очень большими. Однако, видно, что даже при таком большом различии тестовая группа имеет намного более лучшие показатели. Сначала рассмотрим данные в исходном виде, а потом попробуем взять выборки с одинаковым количеством наблюдений."
   ]
  },
  {
   "cell_type": "markdown",
   "metadata": {},
   "source": [
    "#### Теперь рассмотрим общее распределение полученных данных"
   ]
  },
  {
   "cell_type": "code",
   "execution_count": 26,
   "metadata": {},
   "outputs": [
    {
     "data": {
      "text/plain": [
       "<matplotlib.axes._subplots.AxesSubplot at 0x7fe1c85627f0>"
      ]
     },
     "execution_count": 26,
     "metadata": {},
     "output_type": "execute_result"
    },
    {
     "data": {
      "image/png": "[encoded data removed]",
      "text/plain": [
       "<Figure size 432x288 with 1 Axes>"
      ]
     },
     "metadata": {
      "needs_background": "light"
     },
     "output_type": "display_data"
    }
   ],
   "source": [
    "# Посмотрим на расперделение\n",
    "sns.histplot(paying_studs, x='rev')"
   ]
  },
  {
   "cell_type": "markdown",
   "metadata": {},
   "source": [
    "#### Видно, что оно сильно отличается от нормального, попробуем прологарифмировать"
   ]
  },
  {
   "cell_type": "code",
   "execution_count": 27,
   "metadata": {},
   "outputs": [
    {
     "data": {
      "text/plain": [
       "<matplotlib.axes._subplots.AxesSubplot at 0x7fe1c827e7b8>"
      ]
     },
     "execution_count": 27,
     "metadata": {},
     "output_type": "execute_result"
    },
    {
     "data": {
      "image/png": "[encoded data removed]",
      "text/plain": [
       "<Figure size 432x288 with 1 Axes>"
      ]
     },
     "metadata": {
      "needs_background": "light"
     },
     "output_type": "display_data"
    }
   ],
   "source": [
    "# Прологарифмируем данные\n",
    "sns.histplot(paying_studs, x=np.log(paying_studs.rev))"
   ]
  },
  {
   "cell_type": "markdown",
   "metadata": {},
   "source": [
    "#### Не сильно поменялось, но не всегда нужно иметь идеально нормальное распределение для применения тестов"
   ]
  },
  {
   "cell_type": "markdown",
   "metadata": {},
   "source": [
    "#### Посмотрим на распределеине каждой выборки отдельно"
   ]
  },
  {
   "cell_type": "code",
   "execution_count": 28,
   "metadata": {},
   "outputs": [
    {
     "data": {
      "image/png": "[encoded data removed]",
      "text/plain": [
       "<Figure size 576x432 with 2 Axes>"
      ]
     },
     "metadata": {
      "needs_background": "light"
     },
     "output_type": "display_data"
    }
   ],
   "source": [
    "# Теперь посмотрим на распределения по группам\n",
    "fig, ax = plt.subplots(2, 1, figsize=(8, 6))\n",
    "\n",
    "ax[0].hist(control['rev'], bins=20, color=\"lightcoral\", edgecolor='black')\n",
    "ax[0].set_title('Распределение в Control группе')\n",
    "ax[0].set_xlabel('Revenue')\n",
    "ax[0].set_ylabel('Частота')\n",
    "\n",
    "ax[1].hist(test['rev'], bins=20, color=\"skyblue\", edgecolor='black')\n",
    "ax[1].set_title('Распределение в Test группе')\n",
    "ax[1].set_xlabel('Revenue')\n",
    "ax[1].set_ylabel('Частота')\n",
    "\n",
    "plt.tight_layout()\n",
    "plt.show()"
   ]
  },
  {
   "cell_type": "markdown",
   "metadata": {},
   "source": [
    "#### Также попробуем прологарифмировать"
   ]
  },
  {
   "cell_type": "code",
   "execution_count": 29,
   "metadata": {},
   "outputs": [
    {
     "data": {
      "text/plain": [
       "<matplotlib.axes._subplots.AxesSubplot at 0x7fe1c821e2b0>"
      ]
     },
     "execution_count": 29,
     "metadata": {},
     "output_type": "execute_result"
    },
    {
     "data": {
      "image/png": "[encoded data removed]",
      "text/plain": [
       "<Figure size 432x288 with 1 Axes>"
      ]
     },
     "metadata": {
      "needs_background": "light"
     },
     "output_type": "display_data"
    }
   ],
   "source": [
    "# Прологарифмируем данные\n",
    "sns.histplot(paying_studs, x=np.log(paying_studs.rev), hue='grp')"
   ]
  },
  {
   "cell_type": "markdown",
   "metadata": {},
   "source": [
    "#### Не нормальность данных остается не изменной, поэтому будем длеать поправку на это. Также при наложении графиков уже можно заметить чуть большие столбцы у тестовой группы. Теперь проверим это все статистически "
   ]
  },
  {
   "cell_type": "code",
   "execution_count": 30,
   "metadata": {},
   "outputs": [],
   "source": [
    "# Возьмем только столбцы с выручкой\n",
    "control_rev = control.rev\n",
    "test_rev = test.rev"
   ]
  },
  {
   "cell_type": "markdown",
   "metadata": {},
   "source": [
    "#### Проверим каждую выборку на нормальность с помощью теста Шапиро-Уилка. В данном тесте:\n",
    "#### H<sub>0</sub> - данные имеют нормальное распределение\n",
    "#### H<sub>1</sub> - распределение отличается от нормального"
   ]
  },
  {
   "cell_type": "code",
   "execution_count": 31,
   "metadata": {},
   "outputs": [
    {
     "data": {
      "text/plain": [
       "ShapiroResult(statistic=0.7196124196052551, pvalue=5.321687643507211e-13)"
      ]
     },
     "execution_count": 31,
     "metadata": {},
     "output_type": "execute_result"
    }
   ],
   "source": [
    "# Применим тест Шапиро-Уилка для контрольной группы\n",
    "ss.shapiro(control_rev)"
   ]
  },
  {
   "cell_type": "code",
   "execution_count": 32,
   "metadata": {},
   "outputs": [
    {
     "data": {
      "text/plain": [
       "ShapiroResult(statistic=0.867313027381897, pvalue=9.542798088039443e-19)"
      ]
     },
     "execution_count": 32,
     "metadata": {},
     "output_type": "execute_result"
    }
   ],
   "source": [
    "# Применим тест Шапиро-Уилка для тестовой группы\n",
    "ss.shapiro(test_rev)"
   ]
  },
  {
   "cell_type": "markdown",
   "metadata": {},
   "source": [
    "#### Теперь точно можно сказать, что распределения не являются нормальными"
   ]
  },
  {
   "cell_type": "markdown",
   "metadata": {},
   "source": [
    "#### Так как у нас существенные отличия от нормальности, то проверяя выборки на равенство дисперсий будем пользоваться тестом Левена, где:\n",
    "#### H<sub>0</sub> - Дисперсии равны\n",
    "#### H<sub>1</sub> - Дисперсии отличаются"
   ]
  },
  {
   "cell_type": "code",
   "execution_count": 33,
   "metadata": {},
   "outputs": [
    {
     "data": {
      "text/plain": [
       "LeveneResult(statistic=4.0997998278194325, pvalue=0.043381693677143875)"
      ]
     },
     "execution_count": 33,
     "metadata": {},
     "output_type": "execute_result"
    }
   ],
   "source": [
    "# Применим тест Левена\n",
    "ss.levene(control_rev, test_rev)"
   ]
  },
  {
   "cell_type": "markdown",
   "metadata": {},
   "source": [
    "####  Нулевая гипотеза отвергается, поэтому при использовании тестов будем делать поправку на не равность дисперсий\n",
    "#### Итак, теперь проверим гипотезу о том, что новая механика оплаты лучше старой. Будем использовать критерий Стьюдента с поправкой на не равность дисперсий (Уэлча), в нем:\n",
    "#### H<sub>0</sub> - средние в выборках равны\n",
    "#### H<sub>1</sub> - средние отличаются\n",
    "#### Применяем t-тест потому, что выборки имеют > 30 наблюдений, а распределение не сильно отклоняется от нормального"
   ]
  },
  {
   "cell_type": "code",
   "execution_count": 34,
   "metadata": {},
   "outputs": [
    {
     "data": {
      "text/plain": [
       "Ttest_indResult(statistic=-3.0139777685309754, pvalue=0.002699993302662584)"
      ]
     },
     "execution_count": 34,
     "metadata": {},
     "output_type": "execute_result"
    }
   ],
   "source": [
    "# Применим t-тест из библиотеки scipy\n",
    "ss.ttest_ind(control_rev, test_rev, equal_var=True)"
   ]
  },
  {
   "cell_type": "code",
   "execution_count": 35,
   "metadata": {},
   "outputs": [
    {
     "data": {
      "text/html": [
       "<div>\n",
       "<style scoped>\n",
       "    .dataframe tbody tr th:only-of-type {\n",
       "        vertical-align: middle;\n",
       "    }\n",
       "\n",
       "    .dataframe tbody tr th {\n",
       "        vertical-align: top;\n",
       "    }\n",
       "\n",
       "    .dataframe thead th {\n",
       "        text-align: right;\n",
       "    }\n",
       "</style>\n",
       "<table border=\"1\" class=\"dataframe\">\n",
       "  <thead>\n",
       "    <tr style=\"text-align: right;\">\n",
       "      <th></th>\n",
       "      <th>T</th>\n",
       "      <th>dof</th>\n",
       "      <th>alternative</th>\n",
       "      <th>p-val</th>\n",
       "      <th>CI95%</th>\n",
       "      <th>cohen-d</th>\n",
       "      <th>BF10</th>\n",
       "      <th>power</th>\n",
       "    </tr>\n",
       "  </thead>\n",
       "  <tbody>\n",
       "    <tr>\n",
       "      <th>T-test</th>\n",
       "      <td>-3.013978</td>\n",
       "      <td>538</td>\n",
       "      <td>two-sided</td>\n",
       "      <td>0.0027</td>\n",
       "      <td>[-406.81, -85.77]</td>\n",
       "      <td>0.325388</td>\n",
       "      <td>9.104</td>\n",
       "      <td>0.852826</td>\n",
       "    </tr>\n",
       "  </tbody>\n",
       "</table>\n",
       "</div>"
      ],
      "text/plain": [
       "               T  dof alternative   p-val              CI95%   cohen-d   BF10  \\\n",
       "T-test -3.013978  538   two-sided  0.0027  [-406.81, -85.77]  0.325388  9.104   \n",
       "\n",
       "           power  \n",
       "T-test  0.852826  "
      ]
     },
     "execution_count": 35,
     "metadata": {},
     "output_type": "execute_result"
    }
   ],
   "source": [
    "# Применим t-тест из библиотеки pingouin\n",
    "pg.ttest(control_rev, test_rev, correction=False)"
   ]
  },
  {
   "cell_type": "markdown",
   "metadata": {},
   "source": [
    "### Выводы\n",
    "### Проведя анализ результатов A/B-теста, можно сказать, что новая механика оплаты лучше, чем старая. Это следует из того, что при использовании t-теста p-value оказалось меньше 0.05. Также это решение подкрепляют построенные раннее графики и посчитанные метрики, на которых видно, что тестовые показатели лучше контрольных.\n",
    "### Исходя из выше сказанного, можно запускать новую механику оплаты на всех пользователей."
   ]
  },
  {
   "cell_type": "markdown",
   "metadata": {},
   "source": [
    "### Задание 2. Python"
   ]
  },
  {
   "cell_type": "markdown",
   "metadata": {},
   "source": [
    "#### Задача\n",
    "Реализуйте функцию, которая будет автоматически подгружать информацию из дополнительного файла groups_add.csv (заголовки могут отличаться) и на основании дополнительных параметров пересчитывать метрики."
   ]
  },
  {
   "cell_type": "code",
   "execution_count": 46,
   "metadata": {},
   "outputs": [],
   "source": [
    "def add_info(old_file, new_file_name, sep=','):\n",
    "    \n",
    "    \"\"\"\n",
    "    add_info(objs: old_file: DataFrame, new_file_name: str, sep: str = ',') -> DataFrame\n",
    "    \n",
    "    Parameters\n",
    "    ----------\n",
    "    old_file : файл, к которому необходимо добавить новые данные.\n",
    "    new_file_name : имя нового файла, который нужно добавить.\n",
    "    sep : разделитель, который используется в файле, который нужно добавить.\n",
    "    \n",
    "    Returns\n",
    "    -------\n",
    "    DataFrame\n",
    "        Функция возвращает датафрейм с новыми данными. Также показываются необходимые метрики \n",
    "        и статистики\n",
    "        \n",
    "    Notes\n",
    "    -----\n",
    "    Данная функция добавляет к уже имеющемуся датафрейму, пересчитывает метрики и возвращает \n",
    "    новую таблицу с данными. \n",
    "    \"\"\"\n",
    "    \n",
    "    new_info = pd.read_csv(new_file_name, sep=sep)\n",
    "    new_info = new_info.merge(cheks, left_on='id', right_on='student_id', how='left').dropna()\\\n",
    "                       .drop('id', axis=1)[['student_id', 'grp', 'rev']]\n",
    "    old_file = pd.concat([old_file, new_info])\n",
    "    control = old_file.query('grp == \"A\"')\n",
    "    test = old_file.query('grp == \"B\"')\n",
    "    \n",
    "    num_paying_st_control = control.student_id.nunique()\n",
    "    num_paying_st_test    = test.student_id.nunique()\n",
    "    total_rev_control     = control.rev.sum()\n",
    "    total_rev_test        = test.rev.sum()\n",
    "    num_st                = groups.id.nunique()\n",
    "    num_st_control        = groups.query('grp == \"A\"').id.nunique()\n",
    "    num_st_test           = groups.query('grp == \"B\"').id.nunique()\n",
    "    num_active_st         = active_studs.student_id.nunique() + not_active_studs.student_id.nunique()\n",
    "    num_active_st_control = (active_studs_group.query('grp == \"A\"').student_id.nunique() \n",
    "                                 + not_active_studs.query('grp == \"A\"').student_id.nunique())\n",
    "    num_active_st_test    = (active_studs_group.query('grp == \"B\"').student_id.nunique() \n",
    "                              + not_active_studs.query('grp == \"B\"').student_id.nunique())\n",
    "    \n",
    "    arpu_control        = round(total_rev_control / num_st, 2)\n",
    "    arpu_test           = round(total_rev_test / num_st, 2)\n",
    "    arpu_active_control = round(total_rev_control / num_active_st, 2)\n",
    "    arpu_active_test    = round(total_rev_test / num_active_st, 2)\n",
    "    cr_control          = round(num_paying_st_control / num_st_control * 100, 2)\n",
    "    cr_test             = round(num_paying_st_test / num_st_test * 100, 2)\n",
    "    cr_active_control   = round(num_paying_st_control / num_active_st_control * 100, 2)\n",
    "    cr_active_test      = round(num_paying_st_test / num_active_st_test * 100, 2)\n",
    "    \n",
    "    all_func_new = pd.DataFrame([[num_paying_st_control, total_rev_control, num_st_control, \n",
    "                                  num_active_st_control, arpu_control, arpu_active_control, \n",
    "                                  cr_control, cr_active_control], \n",
    "                                 [num_paying_st_test, total_rev_test, num_st_test, num_active_st_test, \n",
    "                                  arpu_test, arpu_active_test, cr_test, cr_active_test]], \n",
    "                                columns=['paying_st', 'total_rev', 'num_st', 'num_active_st', \n",
    "                                 'arpu', 'arpu_active', 'cr', 'cr_active'], index=['control', 'test'])\n",
    "    print(f'Сравнительная таблица контрольной и тестовой групп:\\n {all_func_new}\\n')\n",
    "    print(f'Посмотрим на описательные статистики:\\n')\n",
    "    print(f'Контрольная группа:\\n{control.rev.describe()}\\n')\n",
    "    print(f'Тестовая группа:\\n{test.rev.describe()}\\n')\n",
    "    print('Проверим каждую выборку на нормальность:')\n",
    "    print(ss.shapiro(control.rev))\n",
    "    print(ss.shapiro(test.rev))\n",
    "    print(f'\\nПроверим выборки на равенство дисперсий:\\n{ss.levene(control.rev, test.rev)}\\n')\n",
    "    print(f'Воспользуемся статистическим тестом:\\n'\n",
    "          f'{ss.ttest_ind(control.rev, test.rev, equal_var=False)}')\n",
    "    return old_file"
   ]
  },
  {
   "cell_type": "code",
   "execution_count": 47,
   "metadata": {},
   "outputs": [
    {
     "name": "stdout",
     "output_type": "stream",
     "text": [
      "Help on function add_info in module __main__:\n",
      "\n",
      "add_info(old_file, new_file_name, sep=',')\n",
      "    add_info(objs: old_file: DataFrame, new_file_name: str, sep: str = ',') -> DataFrame\n",
      "    \n",
      "    Parameters\n",
      "    ----------\n",
      "    old_file : файл, к которому необходимо добавить новые данные.\n",
      "    new_file_name : имя нового файла, который нужно добавить.\n",
      "    sep : разделитель, который используется в файле, который нужно добавить.\n",
      "    \n",
      "    Returns\n",
      "    -------\n",
      "    DataFrame\n",
      "        Функция возвращает датафрейм с новыми данными. Также показываются необходимые метрики \n",
      "        и статистики\n",
      "        \n",
      "    Notes\n",
      "    -----\n",
      "    Данная функция добавляет к уже имеющемуся датафрейму, пересчитывает метрики и возвращает \n",
      "    новую таблицу с данными.\n",
      "\n"
     ]
    }
   ],
   "source": [
    "help(add_info)"
   ]
  },
  {
   "cell_type": "code",
   "execution_count": 48,
   "metadata": {},
   "outputs": [
    {
     "name": "stdout",
     "output_type": "stream",
     "text": [
      "Сравнительная таблица контрольной и тестовой групп:\n",
      "          paying_st    total_rev  num_st  num_active_st  arpu  arpu_active  \\\n",
      "control        107   92096.0000   14671           1564  1.24        10.85   \n",
      "test           434  481230.0036   59813           6913  6.46        56.68   \n",
      "\n",
      "           cr  cr_active  \n",
      "control  0.73       6.84  \n",
      "test     0.73       6.28  \n",
      "\n",
      "Посмотрим на описательные статистики:\n",
      "\n",
      "Контрольная группа:\n",
      "count     107.000000\n",
      "mean      860.710280\n",
      "std       815.893445\n",
      "min       199.000000\n",
      "25%       290.000000\n",
      "50%       690.000000\n",
      "75%       990.000000\n",
      "max      3660.000000\n",
      "Name: rev, dtype: float64\n",
      "\n",
      "Тестовая группа:\n",
      "count     434.000000\n",
      "mean     1108.824893\n",
      "std       741.834304\n",
      "min       199.000000\n",
      "25%       420.750000\n",
      "50%       935.000000\n",
      "75%      1900.000000\n",
      "max      4650.000000\n",
      "Name: rev, dtype: float64\n",
      "\n",
      "Проверим каждую выборку на нормальность:\n",
      "ShapiroResult(statistic=0.7196124196052551, pvalue=5.321687643507211e-13)\n",
      "ShapiroResult(statistic=0.8672363758087158, pvalue=8.947892893418603e-19)\n",
      "\n",
      "Проверим выборки на равенство дисперсий:\n",
      "LeveneResult(statistic=4.478900854248509, pvalue=0.03477352573759214)\n",
      "\n",
      "Воспользуемся статистическим тестом:\n",
      "Ttest_indResult(statistic=-2.8670185482728656, pvalue=0.0047318624548498)\n"
     ]
    }
   ],
   "source": [
    "update_paying_studs = add_info(paying_studs, 'Проект_2_group_add.csv')"
   ]
  },
  {
   "cell_type": "markdown",
   "metadata": {},
   "source": [
    "#### Задача\n",
    "Реализуйте функцию, которая будет строить графики по получаемым метрикам."
   ]
  },
  {
   "cell_type": "code",
   "execution_count": 49,
   "metadata": {},
   "outputs": [],
   "source": [
    "def update_graphs(update_df):\n",
    "    \n",
    "    \"\"\"\n",
    "    update_graphs(objs: update_df: DataFrame) -> None\n",
    "    \n",
    "    Parameters\n",
    "    ----------\n",
    "    update_df : новый датафрейм, к которому добавлена информация\n",
    "    \n",
    "    Notes\n",
    "    -----\n",
    "    Данная функция ничего не возвращает и перестраивает раннее полученные графики, исходя из новых данных\n",
    "    \"\"\"\n",
    "    \n",
    "    control = update_df.query('grp == \"A\"')\n",
    "    test = update_df.query('grp == \"B\"')\n",
    "    \n",
    "    print('Рассмотрим общее распределение полученных данных и распределение по группам\\n')\n",
    "    sns.histplot(update_df, x='rev')\n",
    "    \n",
    "    # Теперь посмотрим на распределения по группам\n",
    "    fig, ax = plt.subplots(2, 1, figsize=(8, 6))\n",
    "    ax[0].hist(control['rev'], bins=20, color=\"lightcoral\", edgecolor='black')\n",
    "    ax[0].set_title('Распределение в Control группе')\n",
    "    ax[0].set_xlabel('Revenue')\n",
    "    ax[0].set_ylabel('Частота') # Добавляем подпись оси y\n",
    "\n",
    "    # График для test\n",
    "    ax[1].hist(test['rev'], bins=20, color=\"skyblue\", edgecolor='black')\n",
    "    ax[1].set_title('Распределение в Test группе')\n",
    "    ax[1].set_xlabel('Revenue')\n",
    "    ax[1].set_ylabel('Частота') # Добавляем подпись оси y\n",
    "\n",
    "    plt.tight_layout() # Предотвращает наложение графиков\n",
    "    plt.show()\n",
    "    \n",
    "    print('Графически посмотрим на описательные статистики\\n')\n",
    "    sns.boxplot(data=paying_studs, x=\"grp\", y='rev')"
   ]
  },
  {
   "cell_type": "code",
   "execution_count": 50,
   "metadata": {},
   "outputs": [
    {
     "name": "stdout",
     "output_type": "stream",
     "text": [
      "Help on function update_graphs in module __main__:\n",
      "\n",
      "update_graphs(update_df)\n",
      "    update_graphs(objs: update_df: DataFrame) -> None\n",
      "    \n",
      "    Parameters\n",
      "    ----------\n",
      "    update_df : новый датафрейм, к которому добавлена информация\n",
      "    \n",
      "    Notes\n",
      "    -----\n",
      "    Данная функция ничего не возвращает и перестраивает раннее полученные графики, исходя из новых данных\n",
      "\n"
     ]
    }
   ],
   "source": [
    "help(update_graphs)"
   ]
  },
  {
   "cell_type": "code",
   "execution_count": 51,
   "metadata": {},
   "outputs": [
    {
     "name": "stdout",
     "output_type": "stream",
     "text": [
      "Рассмотрим общее распределение полученных данных и распределение по группам\n",
      "\n"
     ]
    },
    {
     "data": {
      "image/png": "[encoded data removed]",
      "text/plain": [
       "<Figure size 432x288 with 1 Axes>"
      ]
     },
     "metadata": {
      "needs_background": "light"
     },
     "output_type": "display_data"
    },
    {
     "data": {
      "image/png": "[encoded data removed]",
      "text/plain": [
       "<Figure size 576x432 with 2 Axes>"
      ]
     },
     "metadata": {
      "needs_background": "light"
     },
     "output_type": "display_data"
    },
    {
     "name": "stdout",
     "output_type": "stream",
     "text": [
      "Графически посмотрим на описательные статистики\n",
      "\n"
     ]
    },
    {
     "data": {
      "image/png": "[encoded data removed]",
      "text/plain": [
       "<Figure size 432x288 with 1 Axes>"
      ]
     },
     "metadata": {
      "needs_background": "light"
     },
     "output_type": "display_data"
    }
   ],
   "source": [
    "update_graphs(update_paying_studs)"
   ]
  }
 ],
 "metadata": {
  "kernelspec": {
   "display_name": "Python 3",
   "language": "python",
   "name": "python3"
  },
  "language_info": {
   "codemirror_mode": {
    "name": "ipython",
    "version": 3
   },
   "file_extension": ".py",
   "mimetype": "text/x-python",
   "name": "python",
   "nbconvert_exporter": "python",
   "pygments_lexer": "ipython3",
   "version": "3.7.3"
  }
 },
 "nbformat": 4,
 "nbformat_minor": 4
}
